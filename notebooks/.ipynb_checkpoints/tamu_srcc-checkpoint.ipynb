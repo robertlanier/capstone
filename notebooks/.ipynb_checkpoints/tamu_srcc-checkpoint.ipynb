{
 "cells": [
  {
   "cell_type": "markdown",
   "id": "aea5c349",
   "metadata": {},
   "source": [
    "## "
   ]
  },
  {
   "cell_type": "markdown",
   "id": "5fc954f4",
   "metadata": {},
   "source": [
    "### Import modules"
   ]
  },
  {
   "cell_type": "code",
   "execution_count": 41,
   "id": "070a0838",
   "metadata": {},
   "outputs": [],
   "source": [
    "import pandas as pd"
   ]
  },
  {
   "cell_type": "markdown",
   "id": "63d70513",
   "metadata": {},
   "source": [
    "### Read in .csv into Pandas DataFrame\n",
    "- Data: Texas A&M Univ Southern Regional Climate Center's [Climate Data Portal](https://www.srcc.tamu.edu/climate_data_portal/?product=annual_summaries)\n",
    "- Station: BNA\n",
    "- Daily Lister from 01/01/1988 to 11/30/2021"
   ]
  },
  {
   "cell_type": "code",
   "execution_count": 42,
   "id": "392189b5",
   "metadata": {},
   "outputs": [],
   "source": [
    "daily_df = pd.read_csv('../data/tamu_daily_lister_stn_13897.csv', skiprows=6)"
   ]
  },
  {
   "cell_type": "code",
   "execution_count": 43,
   "id": "45569dc5",
   "metadata": {},
   "outputs": [],
   "source": [
    "#daily_df.info()"
   ]
  },
  {
   "cell_type": "code",
   "execution_count": 44,
   "id": "4f02a281",
   "metadata": {},
   "outputs": [],
   "source": [
    "#daily_df.head()"
   ]
  },
  {
   "cell_type": "markdown",
   "id": "07cb7459",
   "metadata": {},
   "source": [
    "### Prepare DataFrame for EDA"
   ]
  },
  {
   "cell_type": "code",
   "execution_count": 45,
   "id": "12049b84",
   "metadata": {},
   "outputs": [],
   "source": [
    "#daily_df.pcpn.value_counts()\n",
    "#daily_df.snow.value_counts()\n",
    "#daily_df.snwd.value_counts()"
   ]
  },
  {
   "cell_type": "code",
   "execution_count": 46,
   "id": "d4f5c4a4",
   "metadata": {},
   "outputs": [],
   "source": [
    "# Take pcpn, snow, and snwd columns, convert to numeric, convert errors to null, and only return notnull values.\n",
    "pcpn_df = daily_df[pd.to_numeric(daily_df['pcpn'], errors='coerce').notnull()]\n",
    "snow_df = daily_df[pd.to_numeric(daily_df['snow'], errors='coerce').notnull()]\n",
    "snwd_df = daily_df[pd.to_numeric(daily_df['snwd'], errors='coerce').notnull()]"
   ]
  },
  {
   "cell_type": "code",
   "execution_count": 47,
   "id": "76ace90a",
   "metadata": {},
   "outputs": [],
   "source": [
    "# Export to .csv\n",
    "pcpn_df.to_csv('../data/tamu_pcpn.csv', index = False)\n",
    "snow_df.to_csv('../data/tamu_snow.csv', index = False)\n",
    "snwd_df.to_csv('../data/tamu_snwd.csv', index = False)"
   ]
  }
 ],
 "metadata": {
  "kernelspec": {
   "display_name": "Python 3",
   "language": "python",
   "name": "python3"
  },
  "language_info": {
   "codemirror_mode": {
    "name": "ipython",
    "version": 3
   },
   "file_extension": ".py",
   "mimetype": "text/x-python",
   "name": "python",
   "nbconvert_exporter": "python",
   "pygments_lexer": "ipython3",
   "version": "3.8.8"
  }
 },
 "nbformat": 4,
 "nbformat_minor": 5
}
