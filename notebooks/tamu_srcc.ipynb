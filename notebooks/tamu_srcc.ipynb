{
 "cells": [
  {
   "cell_type": "markdown",
   "id": "a51e1f8a",
   "metadata": {},
   "source": [
    "# Read and clean data"
   ]
  },
  {
   "cell_type": "markdown",
   "id": "8499cc7a",
   "metadata": {},
   "source": [
    "### Import modules"
   ]
  },
  {
   "cell_type": "code",
   "execution_count": 41,
   "id": "17869812",
   "metadata": {},
   "outputs": [],
   "source": [
    "import pandas as pd"
   ]
  },
  {
   "cell_type": "markdown",
   "id": "076211bc",
   "metadata": {},
   "source": [
    "### Read in .csv into Pandas DataFrame\n",
    "- Data: Texas A&M Univ Southern Regional Climate Center's [Climate Data Portal](https://www.srcc.tamu.edu/climate_data_portal/?product=annual_summaries)\n",
    "- Station: Nashville Intl Airport (BNA)\n",
    "- Daily Lister from 01/01/1988 to 11/30/2021"
   ]
  },
  {
   "cell_type": "code",
   "execution_count": 48,
   "id": "8d307693",
   "metadata": {},
   "outputs": [],
   "source": [
    "# Skip first 7 rows which has descriptive info regarding the dataset\n",
    "daily_df = pd.read_csv('../data/tamu_daily_lister_stn_13897.csv', skiprows=6)"
   ]
  },
  {
   "cell_type": "code",
   "execution_count": 43,
   "id": "bc83a1d6",
   "metadata": {},
   "outputs": [],
   "source": [
    "#daily_df.info()"
   ]
  },
  {
   "cell_type": "code",
   "execution_count": 44,
   "id": "64dc5dfb",
   "metadata": {},
   "outputs": [],
   "source": [
    "#daily_df.head()"
   ]
  },
  {
   "cell_type": "markdown",
   "id": "f9f9de6a",
   "metadata": {},
   "source": [
    "### Prepare DataFrame for EDA"
   ]
  },
  {
   "cell_type": "code",
   "execution_count": 45,
   "id": "0a437eb6",
   "metadata": {},
   "outputs": [],
   "source": [
    "#daily_df.pcpn.value_counts()\n",
    "#daily_df.snow.value_counts()\n",
    "#daily_df.snwd.value_counts()"
   ]
  },
  {
   "cell_type": "code",
   "execution_count": 46,
   "id": "b8e25fca",
   "metadata": {},
   "outputs": [],
   "source": [
    "# Take pcpn, snow, and snwd columns, convert to numeric, convert errors to null, and only return notnull values.\n",
    "pcpn_df = daily_df[pd.to_numeric(daily_df['pcpn'], errors='coerce').notnull()]\n",
    "snow_df = daily_df[pd.to_numeric(daily_df['snow'], errors='coerce').notnull()]\n",
    "snwd_df = daily_df[pd.to_numeric(daily_df['snwd'], errors='coerce').notnull()]"
   ]
  },
  {
   "cell_type": "code",
   "execution_count": 47,
   "id": "3a6b5976",
   "metadata": {},
   "outputs": [],
   "source": [
    "# Export to .csv\n",
    "pcpn_df.to_csv('../data/tamu_pcpn.csv', index = False)\n",
    "snow_df.to_csv('../data/tamu_snow.csv', index = False)\n",
    "snwd_df.to_csv('../data/tamu_snwd.csv', index = False)"
   ]
  }
 ],
 "metadata": {
  "kernelspec": {
   "display_name": "Python 3",
   "language": "python",
   "name": "python3"
  },
  "language_info": {
   "codemirror_mode": {
    "name": "ipython",
    "version": 3
   },
   "file_extension": ".py",
   "mimetype": "text/x-python",
   "name": "python",
   "nbconvert_exporter": "python",
   "pygments_lexer": "ipython3",
   "version": "3.8.8"
  }
 },
 "nbformat": 4,
 "nbformat_minor": 5
}
