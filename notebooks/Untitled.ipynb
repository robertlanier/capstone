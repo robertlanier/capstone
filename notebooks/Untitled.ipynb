{
 "cells": [
  {
   "cell_type": "markdown",
   "id": "683139d6",
   "metadata": {},
   "source": [
    "### Import modules"
   ]
  },
  {
   "cell_type": "code",
   "execution_count": 1,
   "id": "d0d70a48",
   "metadata": {},
   "outputs": [],
   "source": [
    "import pandas as pd"
   ]
  },
  {
   "cell_type": "markdown",
   "id": "dc331325",
   "metadata": {},
   "source": [
    "### Read in .csv into Pandas DataFrame\n",
    "- Data: Texas A&M Univ Southern Regional Climate Center's [Climate Data Portal](https://www.srcc.tamu.edu/climate_data_portal/?product=annual_summaries)\n",
    "- Station: BNA\n",
    "- Daily Lister from 01/01/1988 to 11/30/2021"
   ]
  },
  {
   "cell_type": "code",
   "execution_count": 4,
   "id": "709ec65f",
   "metadata": {},
   "outputs": [],
   "source": [
    "daily_df = pd.read_csv('../data/daily_lister_stn_13897.csv', skiprows=6)"
   ]
  },
  {
   "cell_type": "code",
   "execution_count": 6,
   "id": "3e15d9aa",
   "metadata": {},
   "outputs": [
    {
     "name": "stdout",
     "output_type": "stream",
     "text": [
      "<class 'pandas.core.frame.DataFrame'>\n",
      "RangeIndex: 12388 entries, 0 to 12387\n",
      "Data columns (total 7 columns):\n",
      " #   Column  Non-Null Count  Dtype  \n",
      "---  ------  --------------  -----  \n",
      " 0   Date    12388 non-null  object \n",
      " 1   maxt    12388 non-null  int64  \n",
      " 2   mint    12388 non-null  int64  \n",
      " 3   avgt    12388 non-null  float64\n",
      " 4   pcpn    12388 non-null  object \n",
      " 5   snow    12388 non-null  object \n",
      " 6   snwd    12388 non-null  object \n",
      "dtypes: float64(1), int64(2), object(4)\n",
      "memory usage: 677.6+ KB\n"
     ]
    }
   ],
   "source": [
    "daily_df.info()"
   ]
  },
  {
   "cell_type": "code",
   "execution_count": 8,
   "id": "bbbd9a8e",
   "metadata": {},
   "outputs": [
    {
     "data": {
      "text/html": [
       "<div>\n",
       "<style scoped>\n",
       "    .dataframe tbody tr th:only-of-type {\n",
       "        vertical-align: middle;\n",
       "    }\n",
       "\n",
       "    .dataframe tbody tr th {\n",
       "        vertical-align: top;\n",
       "    }\n",
       "\n",
       "    .dataframe thead th {\n",
       "        text-align: right;\n",
       "    }\n",
       "</style>\n",
       "<table border=\"1\" class=\"dataframe\">\n",
       "  <thead>\n",
       "    <tr style=\"text-align: right;\">\n",
       "      <th></th>\n",
       "      <th>Date</th>\n",
       "      <th>maxt</th>\n",
       "      <th>mint</th>\n",
       "      <th>avgt</th>\n",
       "      <th>pcpn</th>\n",
       "      <th>snow</th>\n",
       "      <th>snwd</th>\n",
       "    </tr>\n",
       "  </thead>\n",
       "  <tbody>\n",
       "    <tr>\n",
       "      <th>0</th>\n",
       "      <td>1988-01-01</td>\n",
       "      <td>41</td>\n",
       "      <td>27</td>\n",
       "      <td>34.0</td>\n",
       "      <td>0.03</td>\n",
       "      <td>0.0</td>\n",
       "      <td>0</td>\n",
       "    </tr>\n",
       "    <tr>\n",
       "      <th>1</th>\n",
       "      <td>1988-01-02</td>\n",
       "      <td>39</td>\n",
       "      <td>20</td>\n",
       "      <td>29.5</td>\n",
       "      <td>0.00</td>\n",
       "      <td>0.0</td>\n",
       "      <td>0</td>\n",
       "    </tr>\n",
       "    <tr>\n",
       "      <th>2</th>\n",
       "      <td>1988-01-03</td>\n",
       "      <td>41</td>\n",
       "      <td>27</td>\n",
       "      <td>34.0</td>\n",
       "      <td>T</td>\n",
       "      <td>0.1</td>\n",
       "      <td>0</td>\n",
       "    </tr>\n",
       "    <tr>\n",
       "      <th>3</th>\n",
       "      <td>1988-01-04</td>\n",
       "      <td>39</td>\n",
       "      <td>20</td>\n",
       "      <td>29.5</td>\n",
       "      <td>0.00</td>\n",
       "      <td>0.0</td>\n",
       "      <td>0</td>\n",
       "    </tr>\n",
       "    <tr>\n",
       "      <th>4</th>\n",
       "      <td>1988-01-05</td>\n",
       "      <td>24</td>\n",
       "      <td>13</td>\n",
       "      <td>18.5</td>\n",
       "      <td>0.00</td>\n",
       "      <td>0.0</td>\n",
       "      <td>0</td>\n",
       "    </tr>\n",
       "  </tbody>\n",
       "</table>\n",
       "</div>"
      ],
      "text/plain": [
       "         Date  maxt  mint  avgt  pcpn snow snwd\n",
       "0  1988-01-01    41    27  34.0  0.03  0.0    0\n",
       "1  1988-01-02    39    20  29.5  0.00  0.0    0\n",
       "2  1988-01-03    41    27  34.0     T  0.1    0\n",
       "3  1988-01-04    39    20  29.5  0.00  0.0    0\n",
       "4  1988-01-05    24    13  18.5  0.00  0.0    0"
      ]
     },
     "execution_count": 8,
     "metadata": {},
     "output_type": "execute_result"
    }
   ],
   "source": [
    "daily_df.head()"
   ]
  },
  {
   "cell_type": "markdown",
   "id": "df2b07d5",
   "metadata": {},
   "source": [
    "### Prepare DataFrame for EDA"
   ]
  },
  {
   "cell_type": "code",
   "execution_count": 38,
   "id": "436975b9",
   "metadata": {},
   "outputs": [],
   "source": [
    "#daily_df.pcpn.value_counts()\n",
    "#daily_df.snow.value_counts()\n",
    "#daily_df.snwd.value_counts()"
   ]
  },
  {
   "cell_type": "code",
   "execution_count": 39,
   "id": "b5058cd9",
   "metadata": {},
   "outputs": [],
   "source": [
    "# Take pcpn, snow, and snwd columns, convert to numeric, convert errors to null, and only return notnull values.\n",
    "pcpn_df = daily_df[pd.to_numeric(daily_df['pcpn'], errors='coerce').notnull()]\n",
    "snow_df = daily_df[pd.to_numeric(daily_df['snow'], errors='coerce').notnull()]\n",
    "snwd_df = daily_df[pd.to_numeric(daily_df['snwd'], errors='coerce').notnull()]"
   ]
  },
  {
   "cell_type": "code",
   "execution_count": 40,
   "id": "5667bc01",
   "metadata": {},
   "outputs": [],
   "source": [
    "# Export to .csv\n",
    "pcpn_df.to_csv('../data/pcpn.csv', index = False)\n",
    "snow_df.to_csv('../data/snow.csv', index = False)\n",
    "snwd_df.to_csv('../data/snwd.csv', index = False)"
   ]
  }
 ],
 "metadata": {
  "kernelspec": {
   "display_name": "Python 3",
   "language": "python",
   "name": "python3"
  },
  "language_info": {
   "codemirror_mode": {
    "name": "ipython",
    "version": 3
   },
   "file_extension": ".py",
   "mimetype": "text/x-python",
   "name": "python",
   "nbconvert_exporter": "python",
   "pygments_lexer": "ipython3",
   "version": "3.8.8"
  }
 },
 "nbformat": 4,
 "nbformat_minor": 5
}
